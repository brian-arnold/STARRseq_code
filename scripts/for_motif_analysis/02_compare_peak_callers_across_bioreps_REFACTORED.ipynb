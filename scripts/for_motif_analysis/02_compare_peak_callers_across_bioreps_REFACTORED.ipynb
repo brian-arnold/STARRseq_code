{
 "cells": [
  {
   "cell_type": "code",
   "execution_count": 2,
   "metadata": {},
   "outputs": [],
   "source": [
    "import seaborn as sns\n",
    "import pandas as pd\n",
    "import numpy as np\n",
    "import matplotlib.pyplot as plt\n",
    "import math\n",
    "import pyranges as pr\n",
    "import itertools\n",
    "import sys\n",
    "sys.path.insert(0, '/Genomics/kocherlab/bjarnold/STARRseq/code/notebooks')\n",
    "\n",
    "import functions as fn\n",
    "from collections import defaultdict\n",
    "import os\n",
    "from pyfaidx import Fasta\n",
    "from Bio.Seq import Seq\n",
    "\n"
   ]
  },
  {
   "cell_type": "code",
   "execution_count": 3,
   "metadata": {},
   "outputs": [],
   "source": [
    "species = \"Nmel\"\n",
    "bioreps = ['F1', 'F2', 'F3']\n",
    "\n",
    "chr1_test = False\n",
    "qval_threshold = 1 # 1.3 corresponds to pvalue of 0.05, 1 corresponds to pvalue of 0.1\n",
    "macs_folddiff_threshold = 2\n",
    "min_interval_size = 200\n",
    "\n",
    "\n"
   ]
  },
  {
   "cell_type": "code",
   "execution_count": 4,
   "metadata": {},
   "outputs": [
    {
     "name": "stdout",
     "output_type": "stream",
     "text": [
      "[]\n"
     ]
    }
   ],
   "source": [
    "base_dir = \"/Users/bjarnold/Princeton_EEB/Kocher/STARRseq\"\n",
    "wd = f\"{base_dir}/data/peak_calling_final/{species}\"\n",
    "\n",
    "# load MACS peak files\n",
    "macs_peaks_files = fn.get_files(f'{wd}/MACS2', \"*_peaks.narrowPeak\")\n",
    "print(macs_peaks_files)\n",
    "\n",
    "#load ref genome\n",
    "ref_genome = f'{base_dir}/data/alternate_references/renamed/{species}.fasta'"
   ]
  },
  {
   "cell_type": "code",
   "execution_count": 5,
   "metadata": {},
   "outputs": [
    {
     "name": "stdout",
     "output_type": "stream",
     "text": [
      "MACS\n",
      "before filtering: 9644\n",
      "after filtering: 4305\n",
      "before filtering: 13149\n",
      "after filtering: 5501\n",
      "before filtering: 12243\n",
      "after filtering: 4904\n",
      "Genrich\n",
      "before filtering: 132922\n",
      "after filtering: 46182\n",
      "before filtering: 121542\n",
      "after filtering: 29869\n",
      "before filtering: 134246\n",
      "after filtering: 40119\n",
      "[4305, 5501, 4904]\n"
     ]
    }
   ],
   "source": [
    "macs_dfs = fn.load_peak_caller_results(macs_peaks_files, chr1_test) # list of macs dataframes\n",
    "\n",
    "# FILTER PEAK FILES BY SIGNIFICANCE, EFFECT SIZE\n",
    "print('MACS')\n",
    "macs_dfs = fn.filter_by_sig_effect_size(macs_dfs, qval_threshold, macs_folddiff_threshold)\n",
    "\n",
    "print([len(df) for df in macs_dfs])\n",
    "\n"
   ]
  },
  {
   "cell_type": "code",
   "execution_count": 6,
   "metadata": {},
   "outputs": [
    {
     "ename": "FileNotFoundError",
     "evalue": "[Errno 2] No such file or directory: '/Genomics/kocherlab/bjarnold/STARRseq/data/peak_calling_snakemake_output/old/data/repeat_modeler_intervals/Nmel_repeat_elements.bed'",
     "output_type": "error",
     "traceback": [
      "\u001b[0;31m---------------------------------------------------------------------------\u001b[0m",
      "\u001b[0;31mFileNotFoundError\u001b[0m                         Traceback (most recent call last)",
      "\u001b[1;32m/Genomics/kocherlab/bjarnold/STARRseq/code/notebooks/02_compare_peak_callers_across_bioreps_REFACTORED.ipynb Cell 7\u001b[0m line \u001b[0;36m4\n\u001b[1;32m      <a href='vscode-notebook-cell://ssh-remote%2Bargo-comp2.princeton.edu/Genomics/kocherlab/bjarnold/STARRseq/code/notebooks/02_compare_peak_callers_across_bioreps_REFACTORED.ipynb#W6sdnNjb2RlLXJlbW90ZQ%3D%3D?line=0'>1</a>\u001b[0m \u001b[39m# can't read with pandas because variable number of columns; some rows marked with an asterisk if the repeat overlaps with another higher-scoring repeat\u001b[39;00m\n\u001b[1;32m      <a href='vscode-notebook-cell://ssh-remote%2Bargo-comp2.princeton.edu/Genomics/kocherlab/bjarnold/STARRseq/code/notebooks/02_compare_peak_callers_across_bioreps_REFACTORED.ipynb#W6sdnNjb2RlLXJlbW90ZQ%3D%3D?line=1'>2</a>\u001b[0m \u001b[39m# load by reading in all lines instead, then importing into table\u001b[39;00m\n\u001b[1;32m      <a href='vscode-notebook-cell://ssh-remote%2Bargo-comp2.princeton.edu/Genomics/kocherlab/bjarnold/STARRseq/code/notebooks/02_compare_peak_callers_across_bioreps_REFACTORED.ipynb#W6sdnNjb2RlLXJlbW90ZQ%3D%3D?line=2'>3</a>\u001b[0m \u001b[39m# then use pyranges to merge overlapping intervals\u001b[39;00m\n\u001b[0;32m----> <a href='vscode-notebook-cell://ssh-remote%2Bargo-comp2.princeton.edu/Genomics/kocherlab/bjarnold/STARRseq/code/notebooks/02_compare_peak_callers_across_bioreps_REFACTORED.ipynb#W6sdnNjb2RlLXJlbW90ZQ%3D%3D?line=3'>4</a>\u001b[0m repeat_pr \u001b[39m=\u001b[39m fn\u001b[39m.\u001b[39;49mload_repeat_modeler_intervals(repeat_file)\n\u001b[1;32m      <a href='vscode-notebook-cell://ssh-remote%2Bargo-comp2.princeton.edu/Genomics/kocherlab/bjarnold/STARRseq/code/notebooks/02_compare_peak_callers_across_bioreps_REFACTORED.ipynb#W6sdnNjb2RlLXJlbW90ZQ%3D%3D?line=5'>6</a>\u001b[0m \u001b[39m# open reference genome ref_genome, count the length of each chromosome, and store in a dictionary\u001b[39;00m\n\u001b[1;32m      <a href='vscode-notebook-cell://ssh-remote%2Bargo-comp2.princeton.edu/Genomics/kocherlab/bjarnold/STARRseq/code/notebooks/02_compare_peak_callers_across_bioreps_REFACTORED.ipynb#W6sdnNjb2RlLXJlbW90ZQ%3D%3D?line=6'>7</a>\u001b[0m fasta_sequences \u001b[39m=\u001b[39m Fasta(ref_genome)\n",
      "File \u001b[0;32m/Genomics/kocherlab/bjarnold/STARRseq/code/notebooks/functions.py:56\u001b[0m, in \u001b[0;36mload_repeat_modeler_intervals\u001b[0;34m(repeat_file)\u001b[0m\n\u001b[1;32m     54\u001b[0m \u001b[39mdef\u001b[39;00m \u001b[39mload_repeat_modeler_intervals\u001b[39m(repeat_file):\n\u001b[1;32m     55\u001b[0m     lines\u001b[39m=\u001b[39m[]\n\u001b[0;32m---> 56\u001b[0m     \u001b[39mwith\u001b[39;00m \u001b[39mopen\u001b[39;49m(repeat_file) \u001b[39mas\u001b[39;00m f:\n\u001b[1;32m     57\u001b[0m         lines \u001b[39m=\u001b[39m f\u001b[39m.\u001b[39mreadlines()\n\u001b[1;32m     58\u001b[0m         [l\u001b[39m.\u001b[39mstrip() \u001b[39mfor\u001b[39;00m l \u001b[39min\u001b[39;00m lines]\n",
      "\u001b[0;31mFileNotFoundError\u001b[0m: [Errno 2] No such file or directory: '/Genomics/kocherlab/bjarnold/STARRseq/data/peak_calling_snakemake_output/old/data/repeat_modeler_intervals/Nmel_repeat_elements.bed'"
     ]
    }
   ],
   "source": [
    "# can't read with pandas because variable number of columns; some rows marked with an asterisk if the repeat overlaps with another higher-scoring repeat\n",
    "# load by reading in all lines instead, then importing into table\n",
    "# then use pyranges to merge overlapping intervals\n",
    "repeat_pr = fn.load_repeat_modeler_intervals(repeat_file)\n",
    "\n",
    "# open reference genome ref_genome, count the length of each chromosome, and store in a dictionary\n",
    "fasta_sequences = Fasta(ref_genome)\n",
    "\n",
    "scaff_lengths = defaultdict(int)\n",
    "# Iterate over the sequences and print their names and lengths\n",
    "for sequence_name in fasta_sequences.keys():\n",
    "    scaff_lengths[sequence_name] = len(fasta_sequences[sequence_name])\n"
   ]
  },
  {
   "cell_type": "code",
   "execution_count": 8,
   "metadata": {},
   "outputs": [],
   "source": [
    "for m in macs_dfs:\n",
    "    # convert peak/summit coordinate into an interval to overlap with pyranges\n",
    "    m['peak_coord_1'] = m['peak_coord'] + 1\n",
    "\n",
    "# gather relevant columns, put in new list of dataframes\n",
    "macs_summit_dfs = [m[['Chromosome', 'peak_coord', 'peak_coord_1', 'signalValue']] for m in macs_dfs]\n",
    "\n",
    "# rename columns to match pyranges format\n",
    "for m in macs_summit_dfs:\n",
    "    m.columns = ['Chromosome', 'Start', 'End', 'signalValue']\n",
    "\n",
    "# convert df to pyranges object\n",
    "macs_summit_prs = [pr.PyRanges(m) for m in macs_summit_dfs]\n",
    "\n"
   ]
  },
  {
   "cell_type": "code",
   "execution_count": null,
   "metadata": {},
   "outputs": [],
   "source": [
    "kmer_df['sequence'] = pr.get_sequence(pr.PyRanges(kmer_df), ref_genome)\n"
   ]
  }
 ],
 "metadata": {
  "kernelspec": {
   "display_name": "datascience",
   "language": "python",
   "name": "python3"
  },
  "language_info": {
   "codemirror_mode": {
    "name": "ipython",
    "version": 3
   },
   "file_extension": ".py",
   "mimetype": "text/x-python",
   "name": "python",
   "nbconvert_exporter": "python",
   "pygments_lexer": "ipython3",
   "version": "3.8.18"
  },
  "orig_nbformat": 4
 },
 "nbformat": 4,
 "nbformat_minor": 2
}
