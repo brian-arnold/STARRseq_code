{
 "cells": [
  {
   "cell_type": "code",
   "execution_count": 1,
   "metadata": {},
   "outputs": [],
   "source": [
    "import pandas as pd\n",
    "import numpy as np\n",
    "import seaborn as sns\n",
    "import matplotlib.pyplot as plt\n",
    "import os\n",
    "import sys\n",
    "\n",
    "from helper import IOHelper # from https://github.com/const-ae/Neural_Network_DNA_Demo\n"
   ]
  },
  {
   "cell_type": "code",
   "execution_count": 2,
   "metadata": {},
   "outputs": [],
   "source": [
    "data_dir = \"/Users/bjarnold/Princeton_EEB/Kocher/DeepSTARR/DeepSTARR/DeepSTARR\"\n",
    "out_dir = \"/Users/bjarnold/Princeton_EEB/Kocher/STARRseq/homer/Dmel\"\n",
    "\n",
    "def prepare_input(data_dir, set, tasks, samples=None, random_state=None):\n",
    "    file_seq = f'{data_dir}/Sequences_{set}.fa'\n",
    "    input_fasta_data_A = IOHelper.get_fastas_from_file(file_seq, uppercase=True)\n",
    "    print(input_fasta_data_A.head())\n",
    "\n",
    "    # get length of first sequence\n",
    "    sequence_length = len(input_fasta_data_A.sequence.iloc[0])\n",
    "\n",
    "    # Convert sequence to one hot encoding matrix\n",
    "    # seq_matrix_A = SequenceHelper.do_one_hot_encoding(input_fasta_data_A.sequence, sequence_length,\n",
    "    #                                                   SequenceHelper.parse_alpha_to_seq)\n",
    "    # print(seq_matrix_A.shape)\n",
    "    # print(seq_matrix_A[0,:,:].shape)\n",
    "    # print(seq_matrix_A[0,:,:])\n",
    "\n",
    "    # X = np.nan_to_num(seq_matrix_A) # Replace NaN with zero and infinity with large finite numbers\n",
    "    # X_reshaped = X.reshape((X.shape[0], X.shape[1], X.shape[2]))\n",
    "\n",
    "    Activity = pd.read_table(f'{data_dir}/Sequences_activity_{set}.txt')\n",
    "    Y_dev = Activity.Dev_log2_enrichment\n",
    "    Y_hk = Activity.Hk_log2_enrichment\n",
    "    Y = []\n",
    "    if \"Dev\" in tasks:\n",
    "        Y.append(Y_dev)\n",
    "    if \"Hk\" in tasks:\n",
    "        Y.append(Y_hk)\n",
    "    Y = np.array(Y).T\n",
    "    print(set)\n",
    "    print(\"input_fasta_data_A.shape\", input_fasta_data_A.shape)\n",
    "    # print(\"seq_matrix_A.shape\", seq_matrix_A.shape)\n",
    "    # print(\"X_reshaped.shape\", X_reshaped.shape)\n",
    "    print(\"Y.shape\", Y.shape)\n",
    "\n",
    "    return input_fasta_data_A, Y\n"
   ]
  },
  {
   "cell_type": "code",
   "execution_count": 3,
   "metadata": {},
   "outputs": [
    {
     "name": "stdout",
     "output_type": "stream",
     "text": [
      "                             location  \\\n",
      "0    chr2L_5587_5835_+_positive_peaks   \n",
      "1    chr2L_5778_6026_+_positive_peaks   \n",
      "2  chr2L_14226_14474_+_positive_peaks   \n",
      "3  chr2L_18618_18866_+_positive_peaks   \n",
      "4  chr2L_34121_34369_+_positive_peaks   \n",
      "\n",
      "                                            sequence  \n",
      "0  ATTCAGATTGCCTCTCATTGTCTCACCCATATTATGGGAACCAAAT...  \n",
      "1  AAATGGCCGCTCAAGAAAAGGCTCGAATATATATTGCCTGCCTCTC...  \n",
      "2  ATAAGGATCAAAAAGTCCTGATTTCCGAAATGGCGGTTCTCCTTCA...  \n",
      "3  TTTCCATGACTGACTGGAATGGGTGGAGAACATCGCTTTGGGAGTG...  \n",
      "4  TCTATCGACCCATAGCCGTAGTCGCTAGACCCGCCCTTCGGAGCAT...  \n",
      "Train\n",
      "input_fasta_data_A.shape (402296, 2)\n",
      "Y.shape (402296, 1)\n"
     ]
    }
   ],
   "source": [
    "tasks = ['Hk']\n",
    "X_train_sequence, Y_train = prepare_input(data_dir, \"Train\", tasks)\n"
   ]
  },
  {
   "cell_type": "code",
   "execution_count": 4,
   "metadata": {},
   "outputs": [
    {
     "data": {
      "text/plain": [
       "<Axes: ylabel='Count'>"
      ]
     },
     "execution_count": 4,
     "metadata": {},
     "output_type": "execute_result"
    },
    {
     "data": {
      "image/png": "[encoded data removed]",
      "text/plain": [
       "<Figure size 640x480 with 1 Axes>"
      ]
     },
     "metadata": {},
     "output_type": "display_data"
    }
   ],
   "source": [
    "sns.histplot(Y_train[:,0])"
   ]
  },
  {
   "cell_type": "code",
   "execution_count": 5,
   "metadata": {},
   "outputs": [],
   "source": [
    "# get indices of Y_train that are > 1.5\n",
    "indices_high = np.where(Y_train[:,0] > 1.5)[0]\n",
    "indices_low = np.where(Y_train[:,0] < 0)[0]"
   ]
  },
  {
   "cell_type": "code",
   "execution_count": 6,
   "metadata": {},
   "outputs": [
    {
     "data": {
      "text/plain": [
       "45906"
      ]
     },
     "execution_count": 6,
     "metadata": {},
     "output_type": "execute_result"
    }
   ],
   "source": [
    "len(indices_high)"
   ]
  },
  {
   "cell_type": "code",
   "execution_count": 7,
   "metadata": {},
   "outputs": [
    {
     "name": "stdout",
     "output_type": "stream",
     "text": [
      "45906\n",
      "45906\n"
     ]
    }
   ],
   "source": [
    "print(len(X_train_sequence.iloc[indices_high]))\n",
    "print(len(Y_train[indices_high,0]))"
   ]
  },
  {
   "cell_type": "code",
   "execution_count": 8,
   "metadata": {},
   "outputs": [],
   "source": [
    "seqs_high = X_train_sequence.iloc[indices_high]\n",
    "seqs_low = X_train_sequence.iloc[indices_low]\n"
   ]
  },
  {
   "cell_type": "code",
   "execution_count": 9,
   "metadata": {},
   "outputs": [],
   "source": [
    "# randomly sample 3000 rows from seqs_high\n",
    "seqs_high_sample = seqs_high.sample(n=3000, random_state=42)\n",
    "# seqs_low_sample = seqs_low.sample(n=3000, random_state=42)"
   ]
  },
  {
   "cell_type": "code",
   "execution_count": 10,
   "metadata": {},
   "outputs": [
    {
     "data": {
      "text/html": [
       "<div>\n",
       "<style scoped>\n",
       "    .dataframe tbody tr th:only-of-type {\n",
       "        vertical-align: middle;\n",
       "    }\n",
       "\n",
       "    .dataframe tbody tr th {\n",
       "        vertical-align: top;\n",
       "    }\n",
       "\n",
       "    .dataframe thead th {\n",
       "        text-align: right;\n",
       "    }\n",
       "</style>\n",
       "<table border=\"1\" class=\"dataframe\">\n",
       "  <thead>\n",
       "    <tr style=\"text-align: right;\">\n",
       "      <th></th>\n",
       "      <th>location</th>\n",
       "      <th>sequence</th>\n",
       "    </tr>\n",
       "  </thead>\n",
       "  <tbody>\n",
       "    <tr>\n",
       "      <th>309660</th>\n",
       "      <td>chrX_19760255_19760503_-_peak_849bp_region</td>\n",
       "      <td>AGAAAACGAGGAAAAACACTTTTACGAATCCTCCCCCTCTCACGTA...</td>\n",
       "    </tr>\n",
       "    <tr>\n",
       "      <th>398585</th>\n",
       "      <td>chr2LHet_348501_348749_-_negative</td>\n",
       "      <td>CATTAATTCGGAATGCCTCCTCTACTTTTAAAGCGTTGTTCCTTCT...</td>\n",
       "    </tr>\n",
       "    <tr>\n",
       "      <th>170805</th>\n",
       "      <td>chr3L_23605501_23605749_+_negative</td>\n",
       "      <td>ATTATATATATTATTATATATTATATATTATATATATATATATATA...</td>\n",
       "    </tr>\n",
       "    <tr>\n",
       "      <th>211933</th>\n",
       "      <td>chr3R_21160868_21161116_-_positive_peaks</td>\n",
       "      <td>CCGTAGTGAGCTCGCTTAGCTCATGATTTTCAACTAGAATGTTTAT...</td>\n",
       "    </tr>\n",
       "    <tr>\n",
       "      <th>218064</th>\n",
       "      <td>chr2L_20886047_20886295_-_positive_peaks</td>\n",
       "      <td>AGCTATTTATAAAGGTATTTTCACTAGATTTGGATGTTTTCTCTAA...</td>\n",
       "    </tr>\n",
       "    <tr>\n",
       "      <th>...</th>\n",
       "      <td>...</td>\n",
       "      <td>...</td>\n",
       "    </tr>\n",
       "    <tr>\n",
       "      <th>325847</th>\n",
       "      <td>chrX_8455557_8455805_-_peak_849bp_region</td>\n",
       "      <td>CGTACACCCACACACATTTACAGCAGGCCATCGCGCACATGTACTT...</td>\n",
       "    </tr>\n",
       "    <tr>\n",
       "      <th>217424</th>\n",
       "      <td>chr2L_2045356_2045604_-_positive_peaks</td>\n",
       "      <td>AAGCAATTAATGTAAGTGTTTTTAATTTTCCTCAGGATATTTACAC...</td>\n",
       "    </tr>\n",
       "    <tr>\n",
       "      <th>316034</th>\n",
       "      <td>chr3L_3225306_3225554_-_peak_849bp_region</td>\n",
       "      <td>ACGCAAGTCAAGGCATGCGTTCACGCTTTTCGTTAACGATTATTGC...</td>\n",
       "    </tr>\n",
       "    <tr>\n",
       "      <th>53294</th>\n",
       "      <td>chr3L_14552835_14553083_+_peak_849bp_region</td>\n",
       "      <td>AAAGAGAATTCCAAATTTACATGTAAAATGTAATGTCAAGTGTTAT...</td>\n",
       "    </tr>\n",
       "    <tr>\n",
       "      <th>11030</th>\n",
       "      <td>chr3R_22938141_22938389_+_positive_peaks</td>\n",
       "      <td>TTGAAAACTGAATTTTATACATTCCATATATTGAAATATTAACGAG...</td>\n",
       "    </tr>\n",
       "  </tbody>\n",
       "</table>\n",
       "<p>3000 rows × 2 columns</p>\n",
       "</div>"
      ],
      "text/plain": [
       "                                           location  \\\n",
       "309660   chrX_19760255_19760503_-_peak_849bp_region   \n",
       "398585            chr2LHet_348501_348749_-_negative   \n",
       "170805           chr3L_23605501_23605749_+_negative   \n",
       "211933     chr3R_21160868_21161116_-_positive_peaks   \n",
       "218064     chr2L_20886047_20886295_-_positive_peaks   \n",
       "...                                             ...   \n",
       "325847     chrX_8455557_8455805_-_peak_849bp_region   \n",
       "217424       chr2L_2045356_2045604_-_positive_peaks   \n",
       "316034    chr3L_3225306_3225554_-_peak_849bp_region   \n",
       "53294   chr3L_14552835_14553083_+_peak_849bp_region   \n",
       "11030      chr3R_22938141_22938389_+_positive_peaks   \n",
       "\n",
       "                                                 sequence  \n",
       "309660  AGAAAACGAGGAAAAACACTTTTACGAATCCTCCCCCTCTCACGTA...  \n",
       "398585  CATTAATTCGGAATGCCTCCTCTACTTTTAAAGCGTTGTTCCTTCT...  \n",
       "170805  ATTATATATATTATTATATATTATATATTATATATATATATATATA...  \n",
       "211933  CCGTAGTGAGCTCGCTTAGCTCATGATTTTCAACTAGAATGTTTAT...  \n",
       "218064  AGCTATTTATAAAGGTATTTTCACTAGATTTGGATGTTTTCTCTAA...  \n",
       "...                                                   ...  \n",
       "325847  CGTACACCCACACACATTTACAGCAGGCCATCGCGCACATGTACTT...  \n",
       "217424  AAGCAATTAATGTAAGTGTTTTTAATTTTCCTCAGGATATTTACAC...  \n",
       "316034  ACGCAAGTCAAGGCATGCGTTCACGCTTTTCGTTAACGATTATTGC...  \n",
       "53294   AAAGAGAATTCCAAATTTACATGTAAAATGTAATGTCAAGTGTTAT...  \n",
       "11030   TTGAAAACTGAATTTTATACATTCCATATATTGAAATATTAACGAG...  \n",
       "\n",
       "[3000 rows x 2 columns]"
      ]
     },
     "execution_count": 10,
     "metadata": {},
     "output_type": "execute_result"
    }
   ],
   "source": [
    "seqs_high_sample"
   ]
  },
  {
   "cell_type": "code",
   "execution_count": 11,
   "metadata": {},
   "outputs": [
    {
     "ename": "FileNotFoundError",
     "evalue": "[Errno 2] No such file or directory: '/Users/bjarnold/Princeton_EEB/Kocher/STARRseq/homer_test/Dmel/Dmel_high.fa'",
     "output_type": "error",
     "traceback": [
      "\u001b[0;31m---------------------------------------------------------------------------\u001b[0m",
      "\u001b[0;31mFileNotFoundError\u001b[0m                         Traceback (most recent call last)",
      "\u001b[1;32m/Users/bjarnold/Princeton_EEB/Kocher/STARRseq/code/notebooks/get_Dmel_seqs_for_homer.ipynb Cell 11\u001b[0m line \u001b[0;36m1\n\u001b[0;32m----> <a href='vscode-notebook-cell:/Users/bjarnold/Princeton_EEB/Kocher/STARRseq/code/notebooks/get_Dmel_seqs_for_homer.ipynb#X14sZmlsZQ%3D%3D?line=0'>1</a>\u001b[0m \u001b[39mwith\u001b[39;00m \u001b[39mopen\u001b[39;49m(\u001b[39mf\u001b[39;49m\u001b[39m\"\u001b[39;49m\u001b[39m{\u001b[39;49;00mout_dir\u001b[39m}\u001b[39;49;00m\u001b[39m/Dmel_high.fa\u001b[39;49m\u001b[39m\"\u001b[39;49m, \u001b[39m\"\u001b[39;49m\u001b[39mw\u001b[39;49m\u001b[39m\"\u001b[39;49m) \u001b[39mas\u001b[39;00m f:\n\u001b[1;32m      <a href='vscode-notebook-cell:/Users/bjarnold/Princeton_EEB/Kocher/STARRseq/code/notebooks/get_Dmel_seqs_for_homer.ipynb#X14sZmlsZQ%3D%3D?line=1'>2</a>\u001b[0m     \u001b[39mfor\u001b[39;00m i,r \u001b[39min\u001b[39;00m seqs_high_sample\u001b[39m.\u001b[39miterrows():\n\u001b[1;32m      <a href='vscode-notebook-cell:/Users/bjarnold/Princeton_EEB/Kocher/STARRseq/code/notebooks/get_Dmel_seqs_for_homer.ipynb#X14sZmlsZQ%3D%3D?line=2'>3</a>\u001b[0m         f\u001b[39m.\u001b[39mwrite(\u001b[39mf\u001b[39m\u001b[39m\"\u001b[39m\u001b[39m>\u001b[39m\u001b[39m{\u001b[39;00mr\u001b[39m.\u001b[39mlocation\u001b[39m}\u001b[39;00m\u001b[39m\\n\u001b[39;00m\u001b[39m\"\u001b[39m)\n",
      "File \u001b[0;32m~/miniforge3/envs/datascience/lib/python3.12/site-packages/IPython/core/interactiveshell.py:308\u001b[0m, in \u001b[0;36m_modified_open\u001b[0;34m(file, *args, **kwargs)\u001b[0m\n\u001b[1;32m    301\u001b[0m \u001b[39mif\u001b[39;00m file \u001b[39min\u001b[39;00m {\u001b[39m0\u001b[39m, \u001b[39m1\u001b[39m, \u001b[39m2\u001b[39m}:\n\u001b[1;32m    302\u001b[0m     \u001b[39mraise\u001b[39;00m \u001b[39mValueError\u001b[39;00m(\n\u001b[1;32m    303\u001b[0m         \u001b[39mf\u001b[39m\u001b[39m\"\u001b[39m\u001b[39mIPython won\u001b[39m\u001b[39m'\u001b[39m\u001b[39mt let you open fd=\u001b[39m\u001b[39m{\u001b[39;00mfile\u001b[39m}\u001b[39;00m\u001b[39m by default \u001b[39m\u001b[39m\"\u001b[39m\n\u001b[1;32m    304\u001b[0m         \u001b[39m\"\u001b[39m\u001b[39mas it is likely to crash IPython. If you know what you are doing, \u001b[39m\u001b[39m\"\u001b[39m\n\u001b[1;32m    305\u001b[0m         \u001b[39m\"\u001b[39m\u001b[39myou can use builtins\u001b[39m\u001b[39m'\u001b[39m\u001b[39m open.\u001b[39m\u001b[39m\"\u001b[39m\n\u001b[1;32m    306\u001b[0m     )\n\u001b[0;32m--> 308\u001b[0m \u001b[39mreturn\u001b[39;00m io_open(file, \u001b[39m*\u001b[39;49margs, \u001b[39m*\u001b[39;49m\u001b[39m*\u001b[39;49mkwargs)\n",
      "\u001b[0;31mFileNotFoundError\u001b[0m: [Errno 2] No such file or directory: '/Users/bjarnold/Princeton_EEB/Kocher/STARRseq/homer_test/Dmel/Dmel_high.fa'"
     ]
    }
   ],
   "source": [
    "with open(f\"{out_dir}/Dmel_high.fa\", \"w\") as f:\n",
    "    for i,r in seqs_high_sample.iterrows():\n",
    "        f.write(f\">{r.location}\\n\")\n",
    "        f.write(f\"{r.sequence}\\n\")\n",
    "\n",
    "with open(f\"{out_dir}/Dmel_low.fa\", \"w\") as f:\n",
    "    for i,r in seqs_low_sample.iterrows():\n",
    "        f.write(f\">{r.location}\\n\")\n",
    "        f.write(f\"{r.sequence}\\n\")"
   ]
  }
 ],
 "metadata": {
  "kernelspec": {
   "display_name": "datascience",
   "language": "python",
   "name": "python3"
  },
  "language_info": {
   "codemirror_mode": {
    "name": "ipython",
    "version": 3
   },
   "file_extension": ".py",
   "mimetype": "text/x-python",
   "name": "python",
   "nbconvert_exporter": "python",
   "pygments_lexer": "ipython3",
   "version": "3.12.0"
  }
 },
 "nbformat": 4,
 "nbformat_minor": 2
}
